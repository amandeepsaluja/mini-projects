{
 "cells": [
  {
   "cell_type": "markdown",
   "metadata": {},
   "source": [
    "# Getting Twitter keyword data in table format using Python  \n",
    "\n",
    "The goal of this project is to search for tweets which contains a particular keyword. Let's say you need to get Tweets and link in the tweet that contains \"#tableau\". This code will help you to get all the tweets in table format and ready to use. The table will contain:\n",
    " - Date of the Tweet\n",
    " - Twitter ID of the person who posted the Tweet\n",
    " - User name of the person who posted the Tweet\n",
    " - Followers she/he has\n",
    " - Tweet in text format\n",
    " - Link in the Tweet (if any)\n",
    " - Times the tweet was marked as Favourite by other users\n",
    " - Times the Tweet was Retweeted \n",
    " \n",
    "The process will be as follows:\n",
    "\n",
    "1. We will import necessary packages.\n",
    "2. We will input all the keys, token and secret in the code. You can find a link after this post which will help you to generate the keys.\n",
    "3. We will input the keyword and the date from which we want to conduct our search.\n",
    "4. Define a function to build a dataframe.\n",
    "5. Get the final output using the function.\n",
    "\n",
    "I hope you enjoy this."
   ]
  },
  {
   "cell_type": "markdown",
   "metadata": {},
   "source": [
    "### Installing packages"
   ]
  },
  {
   "cell_type": "code",
   "execution_count": null,
   "metadata": {},
   "outputs": [],
   "source": [
    "! pip install pandas\n",
    "! pip install tweepy"
   ]
  },
  {
   "cell_type": "markdown",
   "metadata": {},
   "source": [
    "### Importing packages"
   ]
  },
  {
   "cell_type": "code",
   "execution_count": 2,
   "metadata": {},
   "outputs": [],
   "source": [
    "import pandas as pd\n",
    "import tweepy as tw"
   ]
  },
  {
   "cell_type": "markdown",
   "metadata": {},
   "source": [
    "### Input your api keys below"
   ]
  },
  {
   "cell_type": "code",
   "execution_count": 3,
   "metadata": {},
   "outputs": [],
   "source": [
    "consumer_key= '****************'\n",
    "consumer_secret= '*************************'\n",
    "access_token= '************************'\n",
    "access_token_secret= '********************'"
   ]
  },
  {
   "cell_type": "markdown",
   "metadata": {},
   "source": [
    "### Connecting to Twitter API service"
   ]
  },
  {
   "cell_type": "code",
   "execution_count": 4,
   "metadata": {},
   "outputs": [],
   "source": [
    "auth = tw.OAuthHandler(consumer_key, consumer_secret)\n",
    "auth.set_access_token(access_token, access_token_secret)\n",
    "api = tw.API(auth, wait_on_rate_limit=True)"
   ]
  },
  {
   "cell_type": "markdown",
   "metadata": {},
   "source": [
    "### Replace \"#tableau\" with your keyword that you want to search and the date from where you want to start your search"
   ]
  },
  {
   "cell_type": "code",
   "execution_count": 5,
   "metadata": {},
   "outputs": [],
   "source": [
    "keyword = \"#tableau\" + \" -filter:retweets\"\n",
    "from_date = \"2019-08-12\"  #format \"yyyy-mm-dd\""
   ]
  },
  {
   "cell_type": "markdown",
   "metadata": {},
   "source": [
    "### Function to convert twitter data into a Table"
   ]
  },
  {
   "cell_type": "code",
   "execution_count": 6,
   "metadata": {},
   "outputs": [],
   "source": [
    "def twitter_table(keyword, from_date):\n",
    "\n",
    "    all_tweets = tw.Cursor(api.search,\n",
    "                       q=keyword ,\n",
    "                       lang=\"en\",\n",
    "                       since=from_date).items()\n",
    "\n",
    "    # Collect a list of tweets\n",
    "    tweets_list= [[tweet.created_at, tweet.user.screen_name,\n",
    "                   tweet.user.name, tweet.user.followers_count, \n",
    "                   tweet.text, tweet.favorite_count, \n",
    "                   tweet.retweet_count] for tweet in all_tweets]\n",
    "\n",
    "    tweet_table = pd.DataFrame(data=tweets_list, \n",
    "                        columns=['Date', 'User Twitter ID',\n",
    "                                 'User Name', 'Followers', \n",
    "                                 'Tweet','Favourites', 'Retweet'])\n",
    "    \n",
    "    tweet_table[['Tweet', 'Link']] = tweet_table['Tweet'].str.rsplit(\" https:\", 1, expand=True)\n",
    "    tweet_table['Link'] = ' https:' + tweet_table['Link']\n",
    "    \n",
    "    tweet_table = tweet_table[['Date', 'User Twitter ID', 'User Name',\n",
    "                               'Followers', 'Tweet', 'Link',\n",
    "                               'Favourites', 'Retweet']]\n",
    "    \n",
    "    return tweet_table"
   ]
  },
  {
   "cell_type": "markdown",
   "metadata": {},
   "source": [
    "### Calling out function to get the data from Twitter"
   ]
  },
  {
   "cell_type": "code",
   "execution_count": 7,
   "metadata": {
    "scrolled": true
   },
   "outputs": [
    {
     "data": {
      "text/html": [
       "<div>\n",
       "<style scoped>\n",
       "    .dataframe tbody tr th:only-of-type {\n",
       "        vertical-align: middle;\n",
       "    }\n",
       "\n",
       "    .dataframe tbody tr th {\n",
       "        vertical-align: top;\n",
       "    }\n",
       "\n",
       "    .dataframe thead th {\n",
       "        text-align: right;\n",
       "    }\n",
       "</style>\n",
       "<table border=\"1\" class=\"dataframe\">\n",
       "  <thead>\n",
       "    <tr style=\"text-align: right;\">\n",
       "      <th></th>\n",
       "      <th>Date</th>\n",
       "      <th>User Twitter ID</th>\n",
       "      <th>User Name</th>\n",
       "      <th>Followers</th>\n",
       "      <th>Tweet</th>\n",
       "      <th>Link</th>\n",
       "      <th>Favourites</th>\n",
       "      <th>Retweet</th>\n",
       "    </tr>\n",
       "  </thead>\n",
       "  <tbody>\n",
       "    <tr>\n",
       "      <th>0</th>\n",
       "      <td>2019-08-12 15:13:00</td>\n",
       "      <td>sarahlovesdata</td>\n",
       "      <td>Sarah Bartlett</td>\n",
       "      <td>5999</td>\n",
       "      <td>@LearnVizWithMe @J_JCookie Welcome @J_JCookie!...</td>\n",
       "      <td>NaN</td>\n",
       "      <td>2</td>\n",
       "      <td>0</td>\n",
       "    </tr>\n",
       "    <tr>\n",
       "      <th>1</th>\n",
       "      <td>2019-08-12 15:00:43</td>\n",
       "      <td>learnmet</td>\n",
       "      <td>Learnmet.com</td>\n",
       "      <td>8044</td>\n",
       "      <td>10 Things You Must Do After You Sign Up on #Le...</td>\n",
       "      <td>https://t.co/kwWBMoRHNr</td>\n",
       "      <td>0</td>\n",
       "      <td>1</td>\n",
       "    </tr>\n",
       "    <tr>\n",
       "      <th>2</th>\n",
       "      <td>2019-08-12 14:54:46</td>\n",
       "      <td>couponfree01</td>\n",
       "      <td>Coupon Free</td>\n",
       "      <td>1914</td>\n",
       "      <td>Udemy Free Discount - Business Analysis: Essen...</td>\n",
       "      <td>https://t.co/EPMHL6P6Sv</td>\n",
       "      <td>4</td>\n",
       "      <td>4</td>\n",
       "    </tr>\n",
       "    <tr>\n",
       "      <th>3</th>\n",
       "      <td>2019-08-12 14:44:17</td>\n",
       "      <td>BlaiseDenton</td>\n",
       "      <td>Blaise Denton</td>\n",
       "      <td>3</td>\n",
       "      <td>2nd Makeover Monday: Clinical Trials. The numb...</td>\n",
       "      <td>https://t.co/Owyg7HkSaq</td>\n",
       "      <td>1</td>\n",
       "      <td>0</td>\n",
       "    </tr>\n",
       "    <tr>\n",
       "      <th>4</th>\n",
       "      <td>2019-08-12 14:41:06</td>\n",
       "      <td>Poulincogsci</td>\n",
       "      <td>Christina P. Gorga</td>\n",
       "      <td>1067</td>\n",
       "      <td>Hey #Datafam. Who has experience integrating #...</td>\n",
       "      <td>https://t.co/r223NAfB2m</td>\n",
       "      <td>4</td>\n",
       "      <td>2</td>\n",
       "    </tr>\n",
       "    <tr>\n",
       "      <th>5</th>\n",
       "      <td>2019-08-12 14:33:51</td>\n",
       "      <td>SegunOworu</td>\n",
       "      <td>Segun Oworu</td>\n",
       "      <td>717</td>\n",
       "      <td>Storytelling with data in beautiful visual: Th...</td>\n",
       "      <td>https://t.co/JKtCLKd4jX</td>\n",
       "      <td>0</td>\n",
       "      <td>1</td>\n",
       "    </tr>\n",
       "    <tr>\n",
       "      <th>6</th>\n",
       "      <td>2019-08-12 14:14:16</td>\n",
       "      <td>itylergarrett</td>\n",
       "      <td>tyler garrett</td>\n",
       "      <td>971</td>\n",
       "      <td>Early birds gets the worm, and coffee.\\nDownto...</td>\n",
       "      <td>https://t.co/O1UxLjgtEZ</td>\n",
       "      <td>4</td>\n",
       "      <td>1</td>\n",
       "    </tr>\n",
       "    <tr>\n",
       "      <th>7</th>\n",
       "      <td>2019-08-12 14:04:01</td>\n",
       "      <td>EmmaWhyte</td>\n",
       "      <td>Emma Whyte</td>\n",
       "      <td>3239</td>\n",
       "      <td>Hey #tableau #datafam can we talk about on-boa...</td>\n",
       "      <td>https://t.co/3GsLb5XTrL</td>\n",
       "      <td>4</td>\n",
       "      <td>4</td>\n",
       "    </tr>\n",
       "    <tr>\n",
       "      <th>8</th>\n",
       "      <td>2019-08-12 12:13:19</td>\n",
       "      <td>stackArmor</td>\n",
       "      <td>stackArmor</td>\n",
       "      <td>2147</td>\n",
       "      <td>Readout @stackArmor #AWSSecuritySolutions Prov...</td>\n",
       "      <td>https://t.co/73CX5Gzl4P</td>\n",
       "      <td>3</td>\n",
       "      <td>3</td>\n",
       "    </tr>\n",
       "    <tr>\n",
       "      <th>9</th>\n",
       "      <td>2019-08-12 12:04:54</td>\n",
       "      <td>infolabNL</td>\n",
       "      <td>The Information Lab</td>\n",
       "      <td>510</td>\n",
       "      <td>Fan of table calculations, set actions and the...</td>\n",
       "      <td>https://t.co/dYm8eRr1Kd</td>\n",
       "      <td>1</td>\n",
       "      <td>1</td>\n",
       "    </tr>\n",
       "  </tbody>\n",
       "</table>\n",
       "</div>"
      ],
      "text/plain": [
       "                 Date User Twitter ID            User Name  Followers  \\\n",
       "0 2019-08-12 15:13:00  sarahlovesdata       Sarah Bartlett       5999   \n",
       "1 2019-08-12 15:00:43        learnmet         Learnmet.com       8044   \n",
       "2 2019-08-12 14:54:46    couponfree01          Coupon Free       1914   \n",
       "3 2019-08-12 14:44:17    BlaiseDenton        Blaise Denton          3   \n",
       "4 2019-08-12 14:41:06    Poulincogsci   Christina P. Gorga       1067   \n",
       "5 2019-08-12 14:33:51      SegunOworu          Segun Oworu        717   \n",
       "6 2019-08-12 14:14:16   itylergarrett        tyler garrett        971   \n",
       "7 2019-08-12 14:04:01       EmmaWhyte           Emma Whyte       3239   \n",
       "8 2019-08-12 12:13:19      stackArmor           stackArmor       2147   \n",
       "9 2019-08-12 12:04:54       infolabNL  The Information Lab        510   \n",
       "\n",
       "                                               Tweet  \\\n",
       "0  @LearnVizWithMe @J_JCookie Welcome @J_JCookie!...   \n",
       "1  10 Things You Must Do After You Sign Up on #Le...   \n",
       "2  Udemy Free Discount - Business Analysis: Essen...   \n",
       "3  2nd Makeover Monday: Clinical Trials. The numb...   \n",
       "4  Hey #Datafam. Who has experience integrating #...   \n",
       "5  Storytelling with data in beautiful visual: Th...   \n",
       "6  Early birds gets the worm, and coffee.\\nDownto...   \n",
       "7  Hey #tableau #datafam can we talk about on-boa...   \n",
       "8  Readout @stackArmor #AWSSecuritySolutions Prov...   \n",
       "9  Fan of table calculations, set actions and the...   \n",
       "\n",
       "                       Link  Favourites  Retweet  \n",
       "0                       NaN           2        0  \n",
       "1   https://t.co/kwWBMoRHNr           0        1  \n",
       "2   https://t.co/EPMHL6P6Sv           4        4  \n",
       "3   https://t.co/Owyg7HkSaq           1        0  \n",
       "4   https://t.co/r223NAfB2m           4        2  \n",
       "5   https://t.co/JKtCLKd4jX           0        1  \n",
       "6   https://t.co/O1UxLjgtEZ           4        1  \n",
       "7   https://t.co/3GsLb5XTrL           4        4  \n",
       "8   https://t.co/73CX5Gzl4P           3        3  \n",
       "9   https://t.co/dYm8eRr1Kd           1        1  "
      ]
     },
     "execution_count": 7,
     "metadata": {},
     "output_type": "execute_result"
    }
   ],
   "source": [
    "twitter_table(keyword, from_date).head(10)"
   ]
  },
  {
   "cell_type": "markdown",
   "metadata": {},
   "source": [
    "Author: Amandeep Saluja"
   ]
  }
 ],
 "metadata": {
  "kernelspec": {
   "display_name": "Python 3",
   "language": "python",
   "name": "python3"
  },
  "language_info": {
   "codemirror_mode": {
    "name": "ipython",
    "version": 3
   },
   "file_extension": ".py",
   "mimetype": "text/x-python",
   "name": "python",
   "nbconvert_exporter": "python",
   "pygments_lexer": "ipython3",
   "version": "3.7.3"
  }
 },
 "nbformat": 4,
 "nbformat_minor": 2
}
