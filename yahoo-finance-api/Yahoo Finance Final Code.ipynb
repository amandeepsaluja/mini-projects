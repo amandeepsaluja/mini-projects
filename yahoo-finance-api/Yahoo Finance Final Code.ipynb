{
 "cells": [
  {
   "cell_type": "markdown",
   "metadata": {},
   "source": [
    "## Extracting Canadian Stocks Information from Yahoo Finance"
   ]
  },
  {
   "cell_type": "markdown",
   "metadata": {},
   "source": [
    "### Importing packages"
   ]
  },
  {
   "cell_type": "code",
   "execution_count": 1,
   "metadata": {},
   "outputs": [],
   "source": [
    "# importing packages\n",
    "import datetime\n",
    "import df2gspread as d2g\n",
    "import glob\n",
    "import gspread\n",
    "import gspread_dataframe as gd\n",
    "import itertools\n",
    "import pandas as pd\n",
    "import numpy as np\n",
    "import pickle\n",
    "import pymysql\n",
    "import re\n",
    "import requests\n",
    "import os\n",
    "import sys\n",
    "\n",
    "from bs4 import BeautifulSoup\n",
    "from datetime import date, timedelta, datetime\n",
    "from googleapiclient.discovery import build\n",
    "from google_auth_oauthlib.flow import InstalledAppFlow,Flow\n",
    "from google.auth.transport.requests import Request\n",
    "from google.oauth2.service_account import Credentials\n",
    "from IPython.core.display import clear_output\n",
    "from oauth2client.service_account import ServiceAccountCredentials\n",
    "from pandas import json_normalize\n",
    "from pprint import pprint as pp\n",
    "from requests import get\n",
    "from requests.packages import urllib3\n",
    "from selenium import webdriver\n",
    "from selenium.webdriver.common.action_chains import ActionChains\n",
    "from selenium.webdriver.common.by import By\n",
    "from selenium.webdriver.support.color import Color\n",
    "from selenium.common.exceptions import NoSuchElementException\n",
    "from time import sleep\n",
    "from tqdm import tqdm\n",
    "from warnings import warn"
   ]
  },
  {
   "cell_type": "markdown",
   "metadata": {},
   "source": [
    "### Activating Selenium to collecte stock codes\n",
    "Below code will activate a new Yahoo screener to filter for stocks in Canada and with Market Cap of greater than $75M. You can change the country and market cap  below. Download the chromedriver from [this link](https://chromedriver.chromium.org/downloads). Make sure the chrome and driver versions are same. "
   ]
  },
  {
   "cell_type": "code",
   "execution_count": 2,
   "metadata": {},
   "outputs": [],
   "source": [
    "# activates widnow with below link  \n",
    "driver = webdriver.Chrome()\n",
    "driver.get('https://ca.finance.yahoo.com/screener/new')\n",
    "sleep(10)\n",
    "\n",
    "# remove US selection\n",
    "us_slection_xpath = '//*[@id=\"screener-criteria\"]/div[2]/div[1]/div[1]/div[1]/div/div[2]/ul/li[1]'\n",
    "driver.find_element_by_xpath(us_slection_xpath).click()\n",
    "sleep(5)\n",
    "\n",
    "#click on Add region button\n",
    "add_region_xpath = '//*[@id=\"screener-criteria\"]/div[2]/div[1]/div[1]/div[1]/div/div[2]/ul/li'\n",
    "driver.find_element_by_xpath(add_region_xpath).click()\n",
    "sleep(5)\n",
    "\n",
    "#selecting Canada button\n",
    "canada_box_xpath = '//*[@id=\"dropdown-menu\"]/div/div[2]/ul/li[7]/label/span'\n",
    "driver.find_element_by_xpath(canada_box_xpath).click()\n",
    "sleep(5)\n",
    "\n",
    "#click on filter button\n",
    "add_filter_xpath = '//*[@id=\"screener-criteria\"]/div[2]/div[1]/div[1]/div[6]/button/span'\n",
    "driver.find_element_by_xpath(add_filter_xpath).click()\n",
    "sleep(5)\n",
    "\n",
    "#check market cap\n",
    "market_cap_xpath = '//*[@id=\"screener-criteria\"]/div[2]/div[1]/div[1]/div[6]/div/div/div[2]/div[2]/div/ul/li[18]/label/span'\n",
    "driver.find_element_by_xpath(market_cap_xpath).click()\n",
    "sleep(5)\n",
    "\n",
    "#close filter tab\n",
    "close_button_xpath = '//*[@id=\"screener-criteria\"]/div[2]/div[1]/div[1]/div[7]/div/div/div[3]/button'\n",
    "driver.find_element_by_xpath(close_button_xpath).click()\n",
    "sleep(5)\n",
    "\n",
    "#input 75M market cap\n",
    "market_cap_box_xpath = '//*[@id=\"screener-criteria\"]/div[2]/div[1]/div[1]/div[6]/div/div[2]/input'\n",
    "driver.find_element_by_xpath(market_cap_box_xpath).send_keys('75000000')\n",
    "sleep(5)\n",
    "\n",
    "#click on search\n",
    "find_button_xpath = '//*[@id=\"screener-criteria\"]/div[2]/div[1]/div[3]/button[1]'\n",
    "driver.find_element_by_xpath(find_button_xpath).click()\n",
    "sleep(5)"
   ]
  },
  {
   "cell_type": "code",
   "execution_count": 3,
   "metadata": {},
   "outputs": [
    {
     "name": "stderr",
     "output_type": "stream",
     "text": [
      "100%|██████████████████████████████████████████████████████████████████████████████████| 13/13 [00:21<00:00,  1.64s/it]\n"
     ]
    }
   ],
   "source": [
    "#getting current url\n",
    "url = driver.current_url\n",
    "\n",
    "#creating an empty list for code\n",
    "Company_Code = []\n",
    "\n",
    "#loop through code using bs4 \n",
    "for i in tqdm(range(0, 1300, 100), position = 0):\n",
    "    \n",
    "    new_url = str(url) + '?count=100&offset=' + str(i)\n",
    "    response = get(new_url)\n",
    "    html_soup = BeautifulSoup(response.text, 'html.parser')\n",
    "    \n",
    "    for companies in html_soup.find_all('a', class_='Fw(600)'):\n",
    "        Company_Code.append(companies.text)"
   ]
  },
  {
   "cell_type": "markdown",
   "metadata": {},
   "source": [
    "### Getting all data of the codes scraped above\n",
    "\n",
    "The below code will scrape all the information available in the modules mentioned in the code for all the codes scraped below. I have listed the all the available __Modules__ below: \n",
    " - defaultKeyStatistics\n",
    " - financialData\n",
    " - calendarEvents\n",
    " - assetProfile\n",
    " - summaryDetail\n",
    " - upgradeDowngradeHistory\n",
    " - recommendationTrend\n",
    " - earnings\n",
    " - price\n",
    " - recommendationTrend\n",
    " - cashflowStatementHistory\n",
    " - indexTrend\n",
    " - industryTrend\n",
    " - incomeStatementHistory\n",
    " - fundOwnership\n",
    " - insiderHolders\n",
    " - balanceSheetHistory\n",
    " - earningsTrend\n",
    " - secFilings\n",
    " - institutionOwnership\n",
    " - majorHoldersBreakdown\n",
    " - balanceSheetHistoryQuarterly\n",
    " - earningsHistory\n",
    " - majorDirectHolders\n",
    " - netSharePurchaseActivity\n",
    " - insiderTransactions\n",
    " - sectorTrend\n",
    " - incomeStatementHistoryQuarterly\n",
    " - cashflowStatementHistoryQuarterly"
   ]
  },
  {
   "cell_type": "code",
   "execution_count": 4,
   "metadata": {},
   "outputs": [
    {
     "name": "stderr",
     "output_type": "stream",
     "text": [
      "100%|████████████████████████████████████████████████████████████████████████████████| 927/927 [07:54<00:00,  1.95it/s]\n"
     ]
    }
   ],
   "source": [
    "#creating list of all the raw data for all the codes\n",
    "raw_data = []\n",
    "\n",
    "#loop to collect data\n",
    "for stock_code in tqdm(Company_Code, position = 0):\n",
    "    params = {\"formatted\": \"true\",\n",
    "                \"crumb\": \"AKV/cl0TOgz\",\n",
    "                \"lang\": \"en-US\",\n",
    "                \"region\": \"US\",\n",
    "                \"modules\": \"defaultKeyStatistics,financialData,price,summaryDetail,calendarEvents,assetProfile\", #enter your modules here\n",
    "                \"corsDomain\": \"ca.finance.yahoo.com\"}\n",
    "    \n",
    "    url = \"https://query1.finance.yahoo.com/v10/finance/quoteSummary/{}\".format(stock_code)\n",
    "    r = requests.get(url, params=params)\n",
    "    \n",
    "    try:\n",
    "        data = r.json()[u'quoteSummary'][\"result\"][0]\n",
    "    except (TypeError, ValueError) as e:\n",
    "        pass\n",
    "    \n",
    "    df = json_normalize(data)\n",
    "    raw_data.append(df)\n",
    "\n",
    "#creating a dataframe of all the data scraped\n",
    "all_raw_data_df = pd.concat(raw_data)"
   ]
  },
  {
   "cell_type": "markdown",
   "metadata": {},
   "source": [
    "### Cleaning Data"
   ]
  },
  {
   "cell_type": "code",
   "execution_count": 5,
   "metadata": {},
   "outputs": [
    {
     "name": "stderr",
     "output_type": "stream",
     "text": [
      "C:\\Users\\saluj\\Anaconda3\\lib\\site-packages\\pandas\\core\\frame.py:4133: SettingWithCopyWarning: \n",
      "A value is trying to be set on a copy of a slice from a DataFrame\n",
      "\n",
      "See the caveats in the documentation: https://pandas.pydata.org/pandas-docs/stable/user_guide/indexing.html#returning-a-view-versus-a-copy\n",
      "  errors=errors,\n",
      "C:\\Users\\saluj\\Anaconda3\\lib\\site-packages\\ipykernel_launcher.py:33: SettingWithCopyWarning: \n",
      "A value is trying to be set on a copy of a slice from a DataFrame.\n",
      "Try using .loc[row_indexer,col_indexer] = value instead\n",
      "\n",
      "See the caveats in the documentation: https://pandas.pydata.org/pandas-docs/stable/user_guide/indexing.html#returning-a-view-versus-a-copy\n",
      "C:\\Users\\saluj\\Anaconda3\\lib\\site-packages\\pandas\\core\\frame.py:2963: SettingWithCopyWarning: \n",
      "A value is trying to be set on a copy of a slice from a DataFrame.\n",
      "Try using .loc[row_indexer,col_indexer] = value instead\n",
      "\n",
      "See the caveats in the documentation: https://pandas.pydata.org/pandas-docs/stable/user_guide/indexing.html#returning-a-view-versus-a-copy\n",
      "  self[k1] = value[k2]\n"
     ]
    }
   ],
   "source": [
    "#list of all the columns needed from the raw data\n",
    "stock_column_dict = {\n",
    "                    'price': ['regularMarketChangePercent.raw', 'regularMarketChange.raw', 'regularMarketPrice.raw', 'exchange', \n",
    "                              'exchangeName', 'quoteType', 'symbol', 'longName'],\n",
    "                    'financialData': ['targetHighPrice.raw', 'targetLowPrice.raw', 'targetMeanPrice.raw', 'targetMedianPrice.raw', \n",
    "                                      'totalCash.raw','totalDebt.raw', 'recommendationKey'],\n",
    "                    'summaryDetail': ['previousClose.raw', 'open.raw', 'dayLow.raw', 'dayHigh.raw', 'dividendRate.raw', 'dividendYield.raw',\n",
    "                                       'payoutRatio.raw', 'fiveYearAvgDividendYield.raw', 'beta.raw', 'trailingPE.raw', 'forwardPE.raw',\n",
    "                                       'volume.raw', 'averageVolume.raw', 'averageVolume10days.raw', 'marketCap.raw', \n",
    "                                       'fiftyTwoWeekLow.raw', 'fiftyTwoWeekHigh.raw', 'fiftyDayAverage.raw', 'twoHundredDayAverage.raw'],\n",
    "                    'defaultKeyStatistics': ['enterpriseValue.raw', 'sharesOutstanding.raw', 'profitMargins.raw', 'pegRatio.raw', \n",
    "                                             '52WeekChange.raw', 'trailingEps.raw', 'forwardEps.raw', 'enterpriseToRevenue.raw', \n",
    "                                             'enterpriseToEbitda.raw', 'bookValue.raw','priceToBook.raw'],\n",
    "                    'calendarEvents': ['earnings.earningsDate'],\n",
    "                    'assetProfile': ['website', 'industry', 'sector', 'longBusinessSummary', 'city', 'state']\n",
    "                    }\n",
    "\n",
    "#creating a list of columns needed\n",
    "columns_to_look = []\n",
    "for key, value in (itertools.chain.from_iterable([itertools.product((k, ), v) for k, v in stock_column_dict.items()])): \n",
    "    columns_to_look.append(key + '.' + value)\n",
    "    \n",
    "#filter for columns in the list from raw data\n",
    "selected_column_df = all_raw_data_df[all_raw_data_df.columns[all_raw_data_df.columns.isin(columns_to_look)]]\n",
    "\n",
    "#renaming columns\n",
    "selected_column_df.columns = selected_column_df.columns.str.split('.').str[1]\n",
    "\n",
    "#formating calendarevents column\n",
    "selected_column_df.rename(columns={'earnings':'earningsDate'}, inplace=True)\n",
    "\n",
    "#moving date to first column\n",
    "selected_column_df['extractDate'] = pd.to_datetime((datetime.now().strftime(\"%d-%m-%Y\")), format=\"%d-%m-%Y\").strftime('%m/%d/%Y')\n",
    "column_name = 'extractDate'\n",
    "first_column = selected_column_df.pop(column_name)\n",
    "selected_column_df.insert(0, column_name, first_column)\n",
    "\n",
    "#creating a duplicate df for final version\n",
    "final_df = selected_column_df\n",
    "\n",
    "#convert object columns to numeric\n",
    "columns_to_convert = ['previousClose', 'open', 'dayLow', 'dayHigh', 'beta', 'trailingPE', 'volume', \n",
    "                      'averageVolume', 'averageVolume10days', 'marketCap', 'fiftyTwoWeekLow', 'fiftyTwoWeekHigh', \n",
    "                      'fiftyDayAverage', 'twoHundredDayAverage', 'regularMarketChangePercent', \n",
    "                      'regularMarketChange', 'regularMarketPrice', 'enterpriseValue', 'profitMargins', \n",
    "                      'sharesOutstanding', 'bookValue', 'priceToBook', 'trailingEps', 'enterpriseToRevenue', '52WeekChange', \n",
    "                      'totalCash', 'totalDebt', 'payoutRatio', 'forwardPE', 'forwardEps', 'enterpriseToEbitda', \n",
    "                      'targetHighPrice', 'targetLowPrice', 'targetMeanPrice', 'targetMedianPrice', 'dividendRate', \n",
    "                      'dividendYield', 'fiveYearAvgDividendYield', 'pegRatio']\n",
    "\n",
    "final_df[columns_to_convert] = final_df[columns_to_convert].apply(pd.to_numeric, errors='coerce')"
   ]
  },
  {
   "cell_type": "markdown",
   "metadata": {},
   "source": [
    "### Uploading data to Google Sheets\n",
    "Before you proceed, set up your authentication for google account by watching [this video](https://www.youtube.com/watch?v=cnPlKLEGR7E)."
   ]
  },
  {
   "cell_type": "code",
   "execution_count": 6,
   "metadata": {},
   "outputs": [],
   "source": [
    "scope = ['https://spreadsheets.google.com/feeds', \n",
    "         'https://www.googleapis.com/auth/drive']\n",
    "\n",
    "#enter your path to json credentials below \n",
    "path_to_json_credentials = r'' #enter json credential path here\n",
    "\n",
    "credentials = ServiceAccountCredentials.from_json_keyfile_name(path_to_json_credentials, scope)\n",
    "gc = gspread.authorize(credentials)"
   ]
  },
  {
   "cell_type": "code",
   "execution_count": 9,
   "metadata": {},
   "outputs": [],
   "source": [
    "#enter your google workbook and worksheet name below \n",
    "workbook_name = \"Canada Stocks\"\n",
    "worksheet_name = \"Stocks EOD Data\"\n",
    "\n",
    "workbook = gc.open(workbook_name)\n",
    "sheet = workbook.worksheet(worksheet_name)"
   ]
  },
  {
   "cell_type": "markdown",
   "metadata": {},
   "source": [
    "#### Run the below cell only once if adding stocks first time"
   ]
  },
  {
   "cell_type": "code",
   "execution_count": 10,
   "metadata": {},
   "outputs": [],
   "source": [
    "gd.set_with_dataframe(sheet, final_df)"
   ]
  },
  {
   "cell_type": "markdown",
   "metadata": {},
   "source": [
    "#### Run below cell after you have used the above cell first time"
   ]
  },
  {
   "cell_type": "code",
   "execution_count": null,
   "metadata": {},
   "outputs": [],
   "source": [
    "#importing the current df on google sheets\n",
    "existing_google_df = gd.get_as_dataframe(sheet)\n",
    "\n",
    "#appending the final df\n",
    "updated = existing.append(final_df)\n",
    "\n",
    "#uploading the df to google sheet\n",
    "gd.set_with_dataframe(ws, updated_sorted)"
   ]
  },
  {
   "cell_type": "markdown",
   "metadata": {},
   "source": [
    "## Amandeep Saluja\n",
    "http://amandeepsaluja.com/"
   ]
  }
 ],
 "metadata": {
  "kernelspec": {
   "display_name": "Python 3",
   "language": "python",
   "name": "python3"
  },
  "language_info": {
   "codemirror_mode": {
    "name": "ipython",
    "version": 3
   },
   "file_extension": ".py",
   "mimetype": "text/x-python",
   "name": "python",
   "nbconvert_exporter": "python",
   "pygments_lexer": "ipython3",
   "version": "3.7.6"
  }
 },
 "nbformat": 4,
 "nbformat_minor": 4
}
