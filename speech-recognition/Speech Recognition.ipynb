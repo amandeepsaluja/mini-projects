{
 "cells": [
  {
   "cell_type": "markdown",
   "metadata": {},
   "source": [
    "# Speech Recongnition using Python \n",
    "The goal of this mini python project is to learn about the Speech Recognition package to convert audio into text. The process is as follows:\n",
    "1. Installing and importing PyAudio and SpeechRecognition package. Visit this [link](https://www.lfd.uci.edu/~gohlke/pythonlibs/) to download the PyAudio package if you come across any error using pip functionality.\n",
    "2. Setting a variable to Recognizer function.\n",
    "3. Writing the function for converting microphone into text.\n",
    "4. Calling out the function"
   ]
  },
  {
   "cell_type": "code",
   "execution_count": 1,
   "metadata": {},
   "outputs": [
    {
     "name": "stdout",
     "output_type": "stream",
     "text": [
      "You are using 3.7.3 version of Python\n"
     ]
    }
   ],
   "source": [
    "from platform import python_version\n",
    "print('You are using {} version of Python'.format(python_version()))"
   ]
  },
  {
   "cell_type": "code",
   "execution_count": 2,
   "metadata": {},
   "outputs": [
    {
     "name": "stdout",
     "output_type": "stream",
     "text": [
      "Requirement already satisfied: PyAudio in c:\\users\\saluj\\appdata\\local\\continuum\\anaconda3\\lib\\site-packages (0.2.11)\n",
      "Requirement already satisfied: SpeechRecognition in c:\\users\\saluj\\appdata\\local\\continuum\\anaconda3\\lib\\site-packages (3.8.1)\n"
     ]
    }
   ],
   "source": [
    "!pip install PyAudio\n",
    "!pip install SpeechRecognition"
   ]
  },
  {
   "cell_type": "markdown",
   "metadata": {},
   "source": [
    "#### Importing Speech Recognition package"
   ]
  },
  {
   "cell_type": "code",
   "execution_count": 3,
   "metadata": {},
   "outputs": [],
   "source": [
    "import speech_recognition as sr\n",
    "\n",
    "#setting a variable to Recognizer function\n",
    "r = sr.Recognizer()"
   ]
  },
  {
   "cell_type": "markdown",
   "metadata": {},
   "source": [
    "#### Defining function for SR"
   ]
  },
  {
   "cell_type": "code",
   "execution_count": 4,
   "metadata": {},
   "outputs": [],
   "source": [
    "def speech_recognition():\n",
    "    \n",
    "    #setting audio source as microphone\n",
    "    with sr.Microphone() as source:\n",
    "        print(\"Speak Now : \")\n",
    "        audio = r.listen(source)\n",
    "\n",
    "        try:\n",
    "            audio_to_text = r.recognize_google(audio)\n",
    "            print('You said: {}'.format(audio_to_text))\n",
    "        except:\n",
    "            print('Sorry, could not convert audio to text. Please try again!')"
   ]
  },
  {
   "cell_type": "markdown",
   "metadata": {},
   "source": [
    "#### Calling out SR function"
   ]
  },
  {
   "cell_type": "code",
   "execution_count": 5,
   "metadata": {},
   "outputs": [
    {
     "name": "stdout",
     "output_type": "stream",
     "text": [
      "Speak Now : \n",
      "You said: this is so cool\n"
     ]
    }
   ],
   "source": [
    "speech_recognition()"
   ]
  },
  {
   "cell_type": "markdown",
   "metadata": {},
   "source": [
    "Author: Amandeep Saluja"
   ]
  }
 ],
 "metadata": {
  "kernelspec": {
   "display_name": "Python 3",
   "language": "python",
   "name": "python3"
  },
  "language_info": {
   "codemirror_mode": {
    "name": "ipython",
    "version": 3
   },
   "file_extension": ".py",
   "mimetype": "text/x-python",
   "name": "python",
   "nbconvert_exporter": "python",
   "pygments_lexer": "ipython3",
   "version": "3.7.3"
  }
 },
 "nbformat": 4,
 "nbformat_minor": 2
}
