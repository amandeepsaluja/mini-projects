{
 "cells": [
  {
   "cell_type": "markdown",
   "metadata": {},
   "source": [
    "# Iterating through a Date Range\n",
    "The below code allows us to iterate through a date range with a specified interval of days "
   ]
  },
  {
   "cell_type": "markdown",
   "metadata": {},
   "source": [
    "### Importing necessary packages"
   ]
  },
  {
   "cell_type": "code",
   "execution_count": 1,
   "metadata": {},
   "outputs": [],
   "source": [
    "from datetime import date, timedelta, datetime"
   ]
  },
  {
   "cell_type": "markdown",
   "metadata": {},
   "source": [
    "### Creating the function"
   ]
  },
  {
   "cell_type": "code",
   "execution_count": 2,
   "metadata": {},
   "outputs": [],
   "source": [
    "def dateiteration(start_date,end_date,day_range):\n",
    "    \n",
    "    #converting string to date formats\n",
    "    start_date = datetime.strptime(start_date, '%d/%m/%y')\n",
    "    end_date = datetime.strptime(end_date, '%d/%m/%y')\n",
    "    day_range = timedelta(days=day_range)\n",
    "    \n",
    "    #creating a while loop to print out start dates\n",
    "    while start_date < end_date:\n",
    "        print((\"From \" + \"{date.day:02}/{date.month:02}/{date.year}\".\n",
    "               format(date=start_date)) \n",
    "              +\n",
    "              (\" to \" + \"{date.day:02}/{date.month:02}/{date.year}\".\n",
    "               format(date=start_date+day_range-timedelta(days=1))))\n",
    "        start_date += day_range"
   ]
  },
  {
   "cell_type": "markdown",
   "metadata": {},
   "source": [
    "### Calling out the function"
   ]
  },
  {
   "cell_type": "code",
   "execution_count": 3,
   "metadata": {},
   "outputs": [
    {
     "name": "stdout",
     "output_type": "stream",
     "text": [
      "From 01/05/2019 to 14/06/2019\n",
      "From 15/06/2019 to 29/07/2019\n",
      "From 30/07/2019 to 12/09/2019\n",
      "From 13/09/2019 to 27/10/2019\n",
      "From 28/10/2019 to 11/12/2019\n",
      "From 12/12/2019 to 25/01/2020\n",
      "From 26/01/2020 to 10/03/2020\n",
      "From 11/03/2020 to 24/04/2020\n",
      "From 25/04/2020 to 08/06/2020\n"
     ]
    }
   ],
   "source": [
    "#input start date, end date and interval (format: dd/mm/yy)\n",
    "dateiteration('01/05/19','18/05/20',45)"
   ]
  },
  {
   "cell_type": "markdown",
   "metadata": {},
   "source": [
    "Author: Amandeep Saluja"
   ]
  }
 ],
 "metadata": {
  "kernelspec": {
   "display_name": "Python 3",
   "language": "python",
   "name": "python3"
  },
  "language_info": {
   "codemirror_mode": {
    "name": "ipython",
    "version": 3
   },
   "file_extension": ".py",
   "mimetype": "text/x-python",
   "name": "python",
   "nbconvert_exporter": "python",
   "pygments_lexer": "ipython3",
   "version": "3.7.3"
  }
 },
 "nbformat": 4,
 "nbformat_minor": 2
}
