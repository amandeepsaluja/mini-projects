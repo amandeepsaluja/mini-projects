{
 "cells": [
  {
   "cell_type": "markdown",
   "metadata": {},
   "source": [
    "# Connecting to MySQL and performing SQL Queries in Python\n",
    "The goal of this project is to connect python and MySQL and perform the SQL queries in python. The process is as follows:\n",
    "\n",
    "1. Install and import required packages.\n",
    "2. Creating engine to connect to MySQL using credentials.\n",
    "3. Converting table from SQL into a Data Frame.\n",
    "4. Performing SQL query in python.\n",
    "5. Updating database with new data using SQL query.\n",
    "\n",
    "I hope you enjoy this."
   ]
  },
  {
   "cell_type": "markdown",
   "metadata": {},
   "source": [
    "#### Installing and importing necessary packages"
   ]
  },
  {
   "cell_type": "code",
   "execution_count": 1,
   "metadata": {},
   "outputs": [
    {
     "name": "stdout",
     "output_type": "stream",
     "text": [
      "Requirement already satisfied: pymysql in c:\\users\\saluj\\appdata\\local\\continuum\\anaconda3\\lib\\site-packages (0.9.3)\n",
      "Requirement already satisfied: mysql in c:\\users\\saluj\\appdata\\local\\continuum\\anaconda3\\lib\\site-packages (0.0.2)\n",
      "Requirement already satisfied: mysqlclient in c:\\users\\saluj\\appdata\\local\\continuum\\anaconda3\\lib\\site-packages (from mysql) (1.4.4)\n",
      "Requirement already satisfied: sqlalchemy in c:\\users\\saluj\\appdata\\local\\continuum\\anaconda3\\lib\\site-packages (1.3.1)\n"
     ]
    }
   ],
   "source": [
    "! pip install pymysql\n",
    "! pip install mysql\n",
    "! pip install sqlalchemy\n",
    "\n",
    "import pandas as pd\n",
    "import mysql.connector as mysql\n",
    "import sqlalchemy"
   ]
  },
  {
   "cell_type": "markdown",
   "metadata": {},
   "source": [
    "#### Input your credentials here"
   ]
  },
  {
   "cell_type": "code",
   "execution_count": 2,
   "metadata": {},
   "outputs": [],
   "source": [
    "host = \"**********\"    ## input host here\n",
    "user = \"**********\"  ## input username here\n",
    "password = \"**********\"  ## input password here\n",
    "database = \"Twitter\"     ## input schema(database) name here"
   ]
  },
  {
   "cell_type": "markdown",
   "metadata": {},
   "source": [
    "#### Creating engine to connect to MySQL"
   ]
  },
  {
   "cell_type": "code",
   "execution_count": 3,
   "metadata": {},
   "outputs": [],
   "source": [
    "engine = sqlalchemy.create_engine(f'mysql+pymysql://{user}:{password}@{host}:3306/{database}')"
   ]
  },
  {
   "cell_type": "markdown",
   "metadata": {},
   "source": [
    "#### Reading a table in the specified database"
   ]
  },
  {
   "cell_type": "code",
   "execution_count": 4,
   "metadata": {},
   "outputs": [
    {
     "data": {
      "text/html": [
       "<div>\n",
       "<style scoped>\n",
       "    .dataframe tbody tr th:only-of-type {\n",
       "        vertical-align: middle;\n",
       "    }\n",
       "\n",
       "    .dataframe tbody tr th {\n",
       "        vertical-align: top;\n",
       "    }\n",
       "\n",
       "    .dataframe thead th {\n",
       "        text-align: right;\n",
       "    }\n",
       "</style>\n",
       "<table border=\"1\" class=\"dataframe\">\n",
       "  <thead>\n",
       "    <tr style=\"text-align: right;\">\n",
       "      <th></th>\n",
       "      <th>Date</th>\n",
       "      <th>Twitter_ID</th>\n",
       "      <th>User_Name</th>\n",
       "      <th>Followers</th>\n",
       "      <th>Tweet</th>\n",
       "      <th>Link</th>\n",
       "      <th>Favourites</th>\n",
       "      <th>Retweets</th>\n",
       "    </tr>\n",
       "  </thead>\n",
       "  <tbody>\n",
       "    <tr>\n",
       "      <th>0</th>\n",
       "      <td>2019-08-12</td>\n",
       "      <td>erg_data</td>\n",
       "      <td>ERG Data</td>\n",
       "      <td>1</td>\n",
       "      <td>Who posted this image first? Great way to expl...</td>\n",
       "      <td>https://t.co/5e4WJFvSi1</td>\n",
       "      <td>0</td>\n",
       "      <td>1</td>\n",
       "    </tr>\n",
       "    <tr>\n",
       "      <th>1</th>\n",
       "      <td>2019-08-12</td>\n",
       "      <td>AblazeGroupBI</td>\n",
       "      <td>Denise Peck</td>\n",
       "      <td>259</td>\n",
       "      <td>LOOK! $90/hr is THE NEW #FTE $45/hr 👉 https://...</td>\n",
       "      <td>https://t.co/MNZU3zKULn</td>\n",
       "      <td>0</td>\n",
       "      <td>3</td>\n",
       "    </tr>\n",
       "    <tr>\n",
       "      <th>2</th>\n",
       "      <td>2019-08-12</td>\n",
       "      <td>Gustav0Eiffel</td>\n",
       "      <td>Gustavo</td>\n",
       "      <td>4</td>\n",
       "      <td>Is anyone have an idea on how to filter data o...</td>\n",
       "      <td>None</td>\n",
       "      <td>1</td>\n",
       "      <td>1</td>\n",
       "    </tr>\n",
       "    <tr>\n",
       "      <th>3</th>\n",
       "      <td>2019-08-12</td>\n",
       "      <td>HitmarkerJobs</td>\n",
       "      <td>HitmarkerJobs.com // Esports Jobs</td>\n",
       "      <td>11765</td>\n",
       "      <td>⚡ NEW: If you've lived in a world of #SQL and ...</td>\n",
       "      <td>https://t.co/aIP5CIRhaI</td>\n",
       "      <td>2</td>\n",
       "      <td>1</td>\n",
       "    </tr>\n",
       "    <tr>\n",
       "      <th>4</th>\n",
       "      <td>2019-08-12</td>\n",
       "      <td>fredffery</td>\n",
       "      <td>Frederic Fery</td>\n",
       "      <td>508</td>\n",
       "      <td>Pharmaceutical research and development - #tab...</td>\n",
       "      <td>https://t.co/uhj8F6IM64</td>\n",
       "      <td>5</td>\n",
       "      <td>1</td>\n",
       "    </tr>\n",
       "  </tbody>\n",
       "</table>\n",
       "</div>"
      ],
      "text/plain": [
       "        Date     Twitter_ID                          User_Name  Followers  \\\n",
       "0 2019-08-12       erg_data                           ERG Data          1   \n",
       "1 2019-08-12  AblazeGroupBI                        Denise Peck        259   \n",
       "2 2019-08-12  Gustav0Eiffel                            Gustavo          4   \n",
       "3 2019-08-12  HitmarkerJobs  HitmarkerJobs.com // Esports Jobs      11765   \n",
       "4 2019-08-12      fredffery                      Frederic Fery        508   \n",
       "\n",
       "                                               Tweet  \\\n",
       "0  Who posted this image first? Great way to expl...   \n",
       "1  LOOK! $90/hr is THE NEW #FTE $45/hr 👉 https://...   \n",
       "2  Is anyone have an idea on how to filter data o...   \n",
       "3  ⚡ NEW: If you've lived in a world of #SQL and ...   \n",
       "4  Pharmaceutical research and development - #tab...   \n",
       "\n",
       "                       Link  Favourites  Retweets  \n",
       "0   https://t.co/5e4WJFvSi1           0         1  \n",
       "1   https://t.co/MNZU3zKULn           0         3  \n",
       "2                      None           1         1  \n",
       "3   https://t.co/aIP5CIRhaI           2         1  \n",
       "4   https://t.co/uhj8F6IM64           5         1  "
      ]
     },
     "execution_count": 4,
     "metadata": {},
     "output_type": "execute_result"
    }
   ],
   "source": [
    "df1 = pd.read_sql_table(\"tableau_data\", engine)\n",
    "\n",
    "df1.head()"
   ]
  },
  {
   "cell_type": "markdown",
   "metadata": {},
   "source": [
    "#### Performing SQL Query to Select data from the database"
   ]
  },
  {
   "cell_type": "code",
   "execution_count": 5,
   "metadata": {},
   "outputs": [
    {
     "data": {
      "text/html": [
       "<div>\n",
       "<style scoped>\n",
       "    .dataframe tbody tr th:only-of-type {\n",
       "        vertical-align: middle;\n",
       "    }\n",
       "\n",
       "    .dataframe tbody tr th {\n",
       "        vertical-align: top;\n",
       "    }\n",
       "\n",
       "    .dataframe thead th {\n",
       "        text-align: right;\n",
       "    }\n",
       "</style>\n",
       "<table border=\"1\" class=\"dataframe\">\n",
       "  <thead>\n",
       "    <tr style=\"text-align: right;\">\n",
       "      <th></th>\n",
       "      <th>Date</th>\n",
       "      <th>Twitter_ID</th>\n",
       "      <th>User_Name</th>\n",
       "      <th>Followers</th>\n",
       "      <th>Tweet</th>\n",
       "      <th>Link</th>\n",
       "      <th>Favourites</th>\n",
       "      <th>Retweets</th>\n",
       "    </tr>\n",
       "  </thead>\n",
       "  <tbody>\n",
       "    <tr>\n",
       "      <th>0</th>\n",
       "      <td>2019-08-12</td>\n",
       "      <td>erg_data</td>\n",
       "      <td>ERG Data</td>\n",
       "      <td>1</td>\n",
       "      <td>Who posted this image first? Great way to expl...</td>\n",
       "      <td>https://t.co/5e4WJFvSi1</td>\n",
       "      <td>0</td>\n",
       "      <td>1</td>\n",
       "    </tr>\n",
       "    <tr>\n",
       "      <th>1</th>\n",
       "      <td>2019-08-12</td>\n",
       "      <td>AblazeGroupBI</td>\n",
       "      <td>Denise Peck</td>\n",
       "      <td>259</td>\n",
       "      <td>LOOK! $90/hr is THE NEW #FTE $45/hr 👉 https://...</td>\n",
       "      <td>https://t.co/MNZU3zKULn</td>\n",
       "      <td>0</td>\n",
       "      <td>3</td>\n",
       "    </tr>\n",
       "    <tr>\n",
       "      <th>2</th>\n",
       "      <td>2019-08-12</td>\n",
       "      <td>Gustav0Eiffel</td>\n",
       "      <td>Gustavo</td>\n",
       "      <td>4</td>\n",
       "      <td>Is anyone have an idea on how to filter data o...</td>\n",
       "      <td>None</td>\n",
       "      <td>1</td>\n",
       "      <td>1</td>\n",
       "    </tr>\n",
       "    <tr>\n",
       "      <th>3</th>\n",
       "      <td>2019-08-12</td>\n",
       "      <td>HitmarkerJobs</td>\n",
       "      <td>HitmarkerJobs.com // Esports Jobs</td>\n",
       "      <td>11765</td>\n",
       "      <td>⚡ NEW: If you've lived in a world of #SQL and ...</td>\n",
       "      <td>https://t.co/aIP5CIRhaI</td>\n",
       "      <td>2</td>\n",
       "      <td>1</td>\n",
       "    </tr>\n",
       "    <tr>\n",
       "      <th>4</th>\n",
       "      <td>2019-08-12</td>\n",
       "      <td>fredffery</td>\n",
       "      <td>Frederic Fery</td>\n",
       "      <td>508</td>\n",
       "      <td>Pharmaceutical research and development - #tab...</td>\n",
       "      <td>https://t.co/uhj8F6IM64</td>\n",
       "      <td>5</td>\n",
       "      <td>1</td>\n",
       "    </tr>\n",
       "  </tbody>\n",
       "</table>\n",
       "</div>"
      ],
      "text/plain": [
       "         Date     Twitter_ID                          User_Name  Followers  \\\n",
       "0  2019-08-12       erg_data                           ERG Data          1   \n",
       "1  2019-08-12  AblazeGroupBI                        Denise Peck        259   \n",
       "2  2019-08-12  Gustav0Eiffel                            Gustavo          4   \n",
       "3  2019-08-12  HitmarkerJobs  HitmarkerJobs.com // Esports Jobs      11765   \n",
       "4  2019-08-12      fredffery                      Frederic Fery        508   \n",
       "\n",
       "                                               Tweet  \\\n",
       "0  Who posted this image first? Great way to expl...   \n",
       "1  LOOK! $90/hr is THE NEW #FTE $45/hr 👉 https://...   \n",
       "2  Is anyone have an idea on how to filter data o...   \n",
       "3  ⚡ NEW: If you've lived in a world of #SQL and ...   \n",
       "4  Pharmaceutical research and development - #tab...   \n",
       "\n",
       "                       Link  Favourites  Retweets  \n",
       "0   https://t.co/5e4WJFvSi1           0         1  \n",
       "1   https://t.co/MNZU3zKULn           0         3  \n",
       "2                      None           1         1  \n",
       "3   https://t.co/aIP5CIRhaI           2         1  \n",
       "4   https://t.co/uhj8F6IM64           5         1  "
      ]
     },
     "execution_count": 5,
     "metadata": {},
     "output_type": "execute_result"
    }
   ],
   "source": [
    "query='''\n",
    "\n",
    "SELECT * FROM tableau_data ORDER by Date DESC;\n",
    "\n",
    "'''\n",
    "\n",
    "df1 = pd.read_sql_query(query, engine)\n",
    "\n",
    "df1.head(5)"
   ]
  },
  {
   "cell_type": "markdown",
   "metadata": {},
   "source": [
    "#### Reading a local csv file to append our Twitter database"
   ]
  },
  {
   "cell_type": "code",
   "execution_count": 6,
   "metadata": {},
   "outputs": [],
   "source": [
    "new_tweets = pd.read_csv('new_tweets.csv')"
   ]
  },
  {
   "cell_type": "markdown",
   "metadata": {},
   "source": [
    "#### Appending news tweets to tablea_data table "
   ]
  },
  {
   "cell_type": "code",
   "execution_count": null,
   "metadata": {},
   "outputs": [],
   "source": [
    "new_tweets.to_sql(\n",
    "    name = 'tableau_data', #table name\n",
    "    con = engine,\n",
    "    index = False,\n",
    "    if_exists = 'append'\n",
    ")"
   ]
  },
  {
   "cell_type": "markdown",
   "metadata": {},
   "source": [
    "#### Performing SQL Query to check if the new_tweets was uploaded to the database"
   ]
  },
  {
   "cell_type": "code",
   "execution_count": 8,
   "metadata": {},
   "outputs": [
    {
     "data": {
      "text/html": [
       "<div>\n",
       "<style scoped>\n",
       "    .dataframe tbody tr th:only-of-type {\n",
       "        vertical-align: middle;\n",
       "    }\n",
       "\n",
       "    .dataframe tbody tr th {\n",
       "        vertical-align: top;\n",
       "    }\n",
       "\n",
       "    .dataframe thead th {\n",
       "        text-align: right;\n",
       "    }\n",
       "</style>\n",
       "<table border=\"1\" class=\"dataframe\">\n",
       "  <thead>\n",
       "    <tr style=\"text-align: right;\">\n",
       "      <th></th>\n",
       "      <th>Date</th>\n",
       "      <th>Twitter_ID</th>\n",
       "      <th>User_Name</th>\n",
       "      <th>Followers</th>\n",
       "      <th>Tweet</th>\n",
       "      <th>Link</th>\n",
       "      <th>Favourites</th>\n",
       "      <th>Retweets</th>\n",
       "    </tr>\n",
       "  </thead>\n",
       "  <tbody>\n",
       "    <tr>\n",
       "      <th>0</th>\n",
       "      <td>2019-08-16</td>\n",
       "      <td>frances_okolo</td>\n",
       "      <td>Frances Okolo</td>\n",
       "      <td>17</td>\n",
       "      <td>#Nigeria #Tableau #VisOfTheDay #Maps\\n\\nGoodnight</td>\n",
       "      <td>https://t.co/8SuyWPii2V</td>\n",
       "      <td>0</td>\n",
       "      <td>0</td>\n",
       "    </tr>\n",
       "    <tr>\n",
       "      <th>1</th>\n",
       "      <td>2019-08-16</td>\n",
       "      <td>infolabUK</td>\n",
       "      <td>The Information Lab</td>\n",
       "      <td>7529</td>\n",
       "      <td>#TableauTip 💡\\nHow to save time 🕒 on default p...</td>\n",
       "      <td>https://t.co/O8hA7cGlPh</td>\n",
       "      <td>1</td>\n",
       "      <td>2</td>\n",
       "    </tr>\n",
       "    <tr>\n",
       "      <th>2</th>\n",
       "      <td>2019-08-16</td>\n",
       "      <td>ByStefCaldwell</td>\n",
       "      <td>Stef Caldwell</td>\n",
       "      <td>5</td>\n",
       "      <td>There are people that walk into your life and ...</td>\n",
       "      <td>https://t.co/UWBdjJsWdX</td>\n",
       "      <td>0</td>\n",
       "      <td>0</td>\n",
       "    </tr>\n",
       "    <tr>\n",
       "      <th>3</th>\n",
       "      <td>2019-08-16</td>\n",
       "      <td>YEMGunter</td>\n",
       "      <td>Yolanda Gunter</td>\n",
       "      <td>1832</td>\n",
       "      <td>This happened last night w @lelienmusic after ...</td>\n",
       "      <td>https://t.co/9HJAoKe6uW</td>\n",
       "      <td>1</td>\n",
       "      <td>0</td>\n",
       "    </tr>\n",
       "    <tr>\n",
       "      <th>4</th>\n",
       "      <td>2019-08-16</td>\n",
       "      <td>craigbloodworth</td>\n",
       "      <td>Craig Bloodworth</td>\n",
       "      <td>5596</td>\n",
       "      <td>It's Desktop, no it's Prep, no! It's The Hyper...</td>\n",
       "      <td>https://t.co/0IZRyBJY3g</td>\n",
       "      <td>9</td>\n",
       "      <td>0</td>\n",
       "    </tr>\n",
       "  </tbody>\n",
       "</table>\n",
       "</div>"
      ],
      "text/plain": [
       "         Date       Twitter_ID            User_Name  Followers  \\\n",
       "0  2019-08-16    frances_okolo        Frances Okolo         17   \n",
       "1  2019-08-16        infolabUK  The Information Lab       7529   \n",
       "2  2019-08-16   ByStefCaldwell        Stef Caldwell          5   \n",
       "3  2019-08-16        YEMGunter       Yolanda Gunter       1832   \n",
       "4  2019-08-16  craigbloodworth     Craig Bloodworth       5596   \n",
       "\n",
       "                                               Tweet  \\\n",
       "0  #Nigeria #Tableau #VisOfTheDay #Maps\\n\\nGoodnight   \n",
       "1  #TableauTip 💡\\nHow to save time 🕒 on default p...   \n",
       "2  There are people that walk into your life and ...   \n",
       "3  This happened last night w @lelienmusic after ...   \n",
       "4  It's Desktop, no it's Prep, no! It's The Hyper...   \n",
       "\n",
       "                       Link  Favourites  Retweets  \n",
       "0   https://t.co/8SuyWPii2V           0         0  \n",
       "1   https://t.co/O8hA7cGlPh           1         2  \n",
       "2   https://t.co/UWBdjJsWdX           0         0  \n",
       "3   https://t.co/9HJAoKe6uW           1         0  \n",
       "4   https://t.co/0IZRyBJY3g           9         0  "
      ]
     },
     "execution_count": 8,
     "metadata": {},
     "output_type": "execute_result"
    }
   ],
   "source": [
    "query='''\n",
    "\n",
    "SELECT * FROM tableau_data ORDER BY Date DESC;\n",
    "\n",
    "'''\n",
    "\n",
    "df1 = pd.read_sql_query(query, engine)\n",
    "\n",
    "df1.head(5)"
   ]
  },
  {
   "cell_type": "markdown",
   "metadata": {},
   "source": [
    "Author: [Amandeep Saluja](http://amandeepsaluja.com)"
   ]
  }
 ],
 "metadata": {
  "kernelspec": {
   "display_name": "Python 3",
   "language": "python",
   "name": "python3"
  },
  "language_info": {
   "codemirror_mode": {
    "name": "ipython",
    "version": 3
   },
   "file_extension": ".py",
   "mimetype": "text/x-python",
   "name": "python",
   "nbconvert_exporter": "python",
   "pygments_lexer": "ipython3",
   "version": "3.7.3"
  }
 },
 "nbformat": 4,
 "nbformat_minor": 2
}
