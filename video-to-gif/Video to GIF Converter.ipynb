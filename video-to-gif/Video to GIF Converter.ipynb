{
 "cells": [
  {
   "cell_type": "markdown",
   "metadata": {},
   "source": [
    "# Video to GIF Coverter\n",
    "\n",
    "**Goal**: Converting video to GIF.\n",
    "\n",
    "**Process**:\n",
    "1. Installing and import prerequsite packages.\n",
    "2. Defining a variable with path to video that we wna't convert.\n",
    "3. Defining and calling the function to convert video.\n",
    "\n",
    "I hope you enjoy this."
   ]
  },
  {
   "cell_type": "markdown",
   "metadata": {},
   "source": [
    "### Installing prerequisite packages"
   ]
  },
  {
   "cell_type": "code",
   "execution_count": 1,
   "metadata": {},
   "outputs": [
    {
     "name": "stdout",
     "output_type": "stream",
     "text": [
      "Looking in links: fmpeg\n",
      "Requirement already satisfied: imageio in c:\\users\\saluj\\appdata\\local\\continuum\\anaconda3\\lib\\site-packages (2.5.0)\n",
      "Requirement already satisfied: tqdm in c:\\users\\saluj\\appdata\\local\\continuum\\anaconda3\\lib\\site-packages (4.31.1)\n"
     ]
    }
   ],
   "source": [
    "!pip install imageio imageio -ffmpeg\n",
    "!pip install tqdm"
   ]
  },
  {
   "cell_type": "markdown",
   "metadata": {},
   "source": [
    "### Importing necessary packages"
   ]
  },
  {
   "cell_type": "code",
   "execution_count": 2,
   "metadata": {},
   "outputs": [],
   "source": [
    "import imageio\n",
    "import os   #This module provides a portable way of using operating system dependent functionality. \n",
    "from tqdm import tqdm_notebook as tqdm #used for progress bar in loops"
   ]
  },
  {
   "cell_type": "markdown",
   "metadata": {},
   "source": [
    "### Defining a variable via path locater using os"
   ]
  },
  {
   "cell_type": "code",
   "execution_count": 3,
   "metadata": {},
   "outputs": [],
   "source": [
    "#mention you video file name below\n",
    "clip = os.path.abspath('Video.mp4')"
   ]
  },
  {
   "cell_type": "markdown",
   "metadata": {},
   "source": [
    "### Defining function to make GIF"
   ]
  },
  {
   "cell_type": "code",
   "execution_count": 4,
   "metadata": {},
   "outputs": [],
   "source": [
    "def gifMaker(inputPath, targetFormat):\n",
    "    \n",
    "    #defining the output file name\n",
    "    outputPath = os.path.splitext(inputPath)[0] + targetFormat\n",
    "    \n",
    "    print(f'Converting {inputPath} \\n to {outputPath}')\n",
    "    \n",
    "    reader = imageio.get_reader(inputPath)\n",
    "    fps = reader.get_meta_data()['fps']\n",
    "    \n",
    "    writer = imageio.get_writer(outputPath, fps=fps)\n",
    "    \n",
    "    #for loop to append the frames in the video\n",
    "    for frames in tqdm(reader):\n",
    "        writer.append_data(frames)\n",
    "    \n",
    "    print ('Video Converted to GIF!')\n",
    "    writer.close"
   ]
  },
  {
   "cell_type": "markdown",
   "metadata": {},
   "source": [
    "### Calling out the function we just created"
   ]
  },
  {
   "cell_type": "code",
   "execution_count": 5,
   "metadata": {
    "scrolled": true
   },
   "outputs": [
    {
     "name": "stdout",
     "output_type": "stream",
     "text": [
      "Converting C:\\Users\\saluj\\Desktop\\My Website Data\\Python\\Done\\Video to GIF Converter\\Video.mp4 \n",
      " to C:\\Users\\saluj\\Desktop\\My Website Data\\Python\\Done\\Video to GIF Converter\\Video.gif\n"
     ]
    },
    {
     "data": {
      "application/vnd.jupyter.widget-view+json": {
       "model_id": "e917694829ea497fba1bf4d6e630234f",
       "version_major": 2,
       "version_minor": 0
      },
      "text/plain": [
       "HBox(children=(IntProgress(value=1, bar_style='info', max=1), HTML(value='')))"
      ]
     },
     "metadata": {},
     "output_type": "display_data"
    },
    {
     "name": "stdout",
     "output_type": "stream",
     "text": [
      "\n",
      "Video Converted to GIF!\n"
     ]
    }
   ],
   "source": [
    "gifMaker(clip, '.gif')"
   ]
  },
  {
   "cell_type": "markdown",
   "metadata": {},
   "source": [
    "#### Author: Amandeep Saluja"
   ]
  }
 ],
 "metadata": {
  "hide_input": false,
  "kernelspec": {
   "display_name": "Python 3",
   "language": "python",
   "name": "python3"
  },
  "language_info": {
   "codemirror_mode": {
    "name": "ipython",
    "version": 3
   },
   "file_extension": ".py",
   "mimetype": "text/x-python",
   "name": "python",
   "nbconvert_exporter": "python",
   "pygments_lexer": "ipython3",
   "version": "3.7.3"
  },
  "toc": {
   "base_numbering": 1,
   "nav_menu": {},
   "number_sections": true,
   "sideBar": true,
   "skip_h1_title": false,
   "title_cell": "Table of Contents",
   "title_sidebar": "Contents",
   "toc_cell": false,
   "toc_position": {},
   "toc_section_display": true,
   "toc_window_display": false
  }
 },
 "nbformat": 4,
 "nbformat_minor": 2
}
